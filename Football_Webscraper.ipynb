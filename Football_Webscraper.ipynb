{
  "cells": [
    {
      "cell_type": "markdown",
      "metadata": {
        "id": "view-in-github",
        "colab_type": "text"
      },
      "source": [
        "<a href=\"https://colab.research.google.com/github/JacobJS56/FootballRaterService/blob/main/Football_Webscraper.ipynb\" target=\"_parent\"><img src=\"https://colab.research.google.com/assets/colab-badge.svg\" alt=\"Open In Colab\"/></a>"
      ]
    },
    {
      "cell_type": "markdown",
      "metadata": {
        "id": "aPhsB3rqBlu-"
      },
      "source": [
        "# Pre"
      ]
    },
    {
      "cell_type": "code",
      "execution_count": 11,
      "metadata": {
        "colab": {
          "base_uri": "https://localhost:8080/"
        },
        "id": "gLqe8xS_3vN0",
        "outputId": "4a0da102-cd3a-40d9-c0ff-631678ca1900"
      },
      "outputs": [
        {
          "output_type": "stream",
          "name": "stdout",
          "text": [
            "Drive already mounted at /content/gdrive; to attempt to forcibly remount, call drive.mount(\"/content/gdrive\", force_remount=True).\n"
          ]
        }
      ],
      "source": [
        "import requests\n",
        "import time\n",
        "import re\n",
        "import json\n",
        "import os\n",
        "from bs4 import BeautifulSoup\n",
        "from google.colab import drive\n",
        "drive.mount('/content/gdrive')\n",
        "\n",
        "from pydrive.auth import GoogleAuth\n",
        "from pydrive.drive import GoogleDrive\n",
        "from google.colab import auth\n",
        "from oauth2client.client import GoogleCredentials\n",
        "\n",
        "auth.authenticate_user()\n",
        "gauth = GoogleAuth()\n",
        "gauth.credentials = GoogleCredentials.get_application_default()\n",
        "drive = GoogleDrive(gauth)"
      ]
    },
    {
      "cell_type": "code",
      "execution_count": 12,
      "metadata": {
        "id": "AkEqpl01AK3p"
      },
      "outputs": [],
      "source": [
        "URL_PREFIX = \"https://www.footballdatabase.eu\""
      ]
    },
    {
      "cell_type": "markdown",
      "metadata": {
        "id": "JEkBT57F6jJM"
      },
      "source": [
        "# Teams"
      ]
    },
    {
      "cell_type": "code",
      "execution_count": 13,
      "metadata": {
        "id": "H0mSVJmR7FHu"
      },
      "outputs": [],
      "source": [
        "URL = URL_PREFIX + \"/en/competition/overall/14983-la_liga_santander/2021-2022\"\n",
        "page = requests.get(URL)\n",
        "league = \"La Liga Santander\"\n",
        "main_soup = BeautifulSoup(page.content, \"html.parser\")"
      ]
    },
    {
      "cell_type": "code",
      "execution_count": 14,
      "metadata": {
        "id": "ud2WAdcz7FMD"
      },
      "outputs": [],
      "source": [
        "teamList = main_soup.find_all(\"div\", class_=\"row\")\n",
        "teamList = main_soup.find_all(\"div\", class_=\"module ranking fullsize\")\n",
        "teamList = main_soup.find_all(\"td\", class_=\"club\")\n",
        "teamList = teamList[0:20]"
      ]
    },
    {
      "cell_type": "code",
      "execution_count": 15,
      "metadata": {
        "id": "zG11Jiqz8CGL"
      },
      "outputs": [],
      "source": [
        "team_dict = dict()\n",
        "\n",
        "for team in teamList:\n",
        "  team_name = team.text.strip()\n",
        "  team = team.find(\"a\", class_=\"\")\n",
        "  team_url = team.get('href')\n",
        "  team_dict[team_name] = team_url"
      ]
    },
    {
      "cell_type": "markdown",
      "metadata": {
        "id": "WoTbISPm6iTc"
      },
      "source": [
        "# Players"
      ]
    },
    {
      "cell_type": "markdown",
      "metadata": {
        "id": "c7lvWBxaCiUI"
      },
      "source": [
        "Gets all players from all teams"
      ]
    },
    {
      "cell_type": "code",
      "execution_count": null,
      "metadata": {
        "id": "xRh0t6lyBtfn"
      },
      "outputs": [],
      "source": [
        "teams_dict_withplayers = dict()\n",
        "listOfTeams= []\n",
        "\n",
        "for key in team_dict:\n",
        " # time.sleep(25)\n",
        "  hashedKey = str(abs(hash(key)) % (10 ** 8))\n",
        "\n",
        "  URL = URL_PREFIX + team_dict[key]\n",
        "  page = requests.get(URL)\n",
        "  team_soup = BeautifulSoup(page.content, \"html.parser\")\n",
        "\n",
        "  listOfPlayers = []\n",
        "  teamD = dict()\n",
        "\n",
        "  tsuc=False\n",
        "  ssuc=False\n",
        "  msuc=False\n",
        "\n",
        "  # logo\n",
        "  try:\n",
        "    logo = team_soup.find(\"div\", class_=\"clublogo\")\n",
        "    for l in logo:\n",
        "      with open('/content/gdrive/My Drive/football/logos/' + hashedKey + '-logo.png', 'wb') as f:\n",
        "        f.write(requests.get(URL_PREFIX + str(l[\"src\"])).content)\n",
        "    tsuc=True\n",
        "  except:\n",
        "    print(\"Couldn't get Logo for: %s\", key)\n",
        "  # time to update the drive\n",
        "  time.sleep(25)\n",
        "\n",
        "  teamD[\"teamName\"] = key\n",
        "\n",
        "  # stadium\n",
        "  try:\n",
        "    stadium = team_soup.find(\"div\", class_=\"info\")\n",
        "    stadium = str(stadium).split(\"<div>\")[5]\n",
        "    stadium = re.sub(\"</div>\", \"\", str(stadium))\n",
        "    stadium = re.sub(\"(.*)span>\", \"\", str(stadium))\n",
        "    teamD[\"stadium\"] = stadium\n",
        "    ssuc=True\n",
        "  except:\n",
        "    print(\"Couldn't get Stadium for: %s\", key)\n",
        "\n",
        "  # manager\n",
        "  try:\n",
        "    manager = team_soup.find(\"div\", class_=\"info-manager\")\n",
        "    manager.find(\"p\", class_=\"manager\")\n",
        "    manager = re.sub(\"Manager(.*)\", \"\", str(manager.text.strip()))\n",
        "    manager = manager.split(\"\\n\")[0]\n",
        "    teamD[\"manager\"] = manager\n",
        "    msuc=True\n",
        "  except:\n",
        "    print(\"Couldn't get Manager for: %s\", key)\n",
        "\n",
        "  # find the logos shareable link\n",
        "  for d in drive.ListFile({'q': \"'1MSknsWLdfdb7yFZ906uT4JZOA4-L5Ni6' in parents and trashed=false\"}).GetList():\n",
        "    if(d['originalFilename'] == hashedKey + '-logo.png'):\n",
        "      teamD[\"logo\"] = d['alternateLink']\n",
        "\n",
        "  # players\n",
        "  # new folder for players of particular team\n",
        "  player_path = \"/content/gdrive/My Drive/football/players/\" + key + \"/\"\n",
        "  os.mkdir(player_path)\n",
        "\n",
        "  # go through list of players\n",
        "  playerList = team_soup.find_all(\"div\", class_=\"headband-player\")\n",
        "  player_name = \"\"\n",
        "\n",
        "  for player in playerList:\n",
        "    # find players name\n",
        "    player_name = player.find(\"h3\", class_=\"name\")\n",
        "    # hash player name with key\n",
        "    player_name_hashed = str(abs(hash(str(key) + str(player_name.text.strip()))) % (10 ** 16))\n",
        "    # get picture for player\n",
        "    player_image = player.find(\"img\")\n",
        "    # save picture\n",
        "    with open(player_path + player_name_hashed + '.png', 'wb') as f:\n",
        "        f.write(requests.get(URL_PREFIX + player_image['src']).content)\n",
        "    listOfPlayers.append(player_name.text.strip())\n",
        "  # time to update the drive\n",
        "  time.sleep(25)\n",
        "\n",
        "  # get shareable link for players\n",
        "  newListOfPlayers = []\n",
        "  # find folder with team name\n",
        "  for d in drive.ListFile({'q': \"'103_ikqARGHGPvr0f1TnL2fLPQSsK3mxB' in parents and trashed=false\"}).GetList():\n",
        "    if(d['title'] == key):\n",
        "      # iterate through players in listOfPlayers\n",
        "      for pl in listOfPlayers:\n",
        "        # rehash to check file name\n",
        "        player_name_hashed = str(abs(hash(str(key) + str(pl))) % (10 ** 16))\n",
        "        # iterate files to find a match\n",
        "        for f in drive.ListFile({'q': f\"'{d['id']}' in parents\"}).GetList():\n",
        "          if(player_name_hashed + '.png' == f['originalFilename']):\n",
        "            # obtain shareable link\n",
        "            newListOfPlayers.append({'name': pl, 'image':  f['alternateLink']})\n",
        "  \n",
        "  # players list added to dict and added to teams list\n",
        "  teamD[\"playerList\"] = newListOfPlayers\n",
        "  listOfTeams.append(teamD)\n",
        "\n",
        "  # final check make sure successful\n",
        "  if(ssuc and msuc and tsuc):\n",
        "    print(\"Succesful for: \" + key)\n",
        "\n",
        "# league dict creation\n",
        "teams_dict_withplayers[\"league\"] = league\n",
        "teams_dict_withplayers[\"teamList\"] = listOfTeams"
      ]
    },
    {
      "cell_type": "code",
      "execution_count": null,
      "metadata": {
        "id": "JG3yG8FloL9V"
      },
      "outputs": [],
      "source": [
        "print(json.dumps(teams_dict_withplayers, indent=4))"
      ]
    },
    {
      "cell_type": "code",
      "execution_count": 18,
      "metadata": {
        "id": "luI8EQ_ACvrK"
      },
      "outputs": [],
      "source": [
        "jsonString = json.dumps(teams_dict_withplayers, indent=4)\n",
        "with open('/content/gdrive/My Drive/football/' + league + '.json', 'w') as f:\n",
        "  f.write(jsonString)"
      ]
    }
  ],
  "metadata": {
    "colab": {
      "collapsed_sections": [],
      "name": "Football_Webscraper.ipynb",
      "provenance": [],
      "authorship_tag": "ABX9TyNCKfKbka72gLUoCqNWX2Ek",
      "include_colab_link": true
    },
    "kernelspec": {
      "display_name": "Python 3",
      "name": "python3"
    },
    "language_info": {
      "name": "python"
    }
  },
  "nbformat": 4,
  "nbformat_minor": 0
}